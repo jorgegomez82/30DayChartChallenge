{
  "cells": [
    {
      "cell_type": "raw",
      "metadata": {},
      "source": [
        "---\n",
        "title: \"Inmunizacion Essalud del 2015 al 2022\"\n",
        "format: pdf\n",
        "editor: visual\n",
        "---"
      ],
      "id": "243a71f0"
    },
    {
      "cell_type": "markdown",
      "metadata": {},
      "source": [
        "## makeover\n",
        "\n",
        "\n",
        "## ¿Cual es mi objetivo?\n",
        "\n",
        "\n",
        "## ¿Cuales son las espectativas de la audiencia?\n",
        "\n",
        "\n",
        "## Grafica\n",
        "\n",
        "```{rmd}\n",
        "<iframe title=\"Valor Agregado Bruto del Sector Pesquero en el Perú\" aria-label=\"Split Bars\" id=\"datawrapper-chart-Klz5K\" src=\"https://datawrapper.dwcdn.net/Klz5K/1/\" scrolling=\"no\" frameborder=\"0\" style=\"width: 0; min-width: 100% !important; border: none;\" height=\"453\" data-external=\"1\"></iframe><script type=\"text/javascript\">!function(){\"use strict\";window.addEventListener(\"message\",(function(a){if(void 0!==a.data[\"datawrapper-height\"]){var e=document.querySelectorAll(\"iframe\");for(var t in a.data[\"datawrapper-height\"])for(var r=0;r<e.length;r++)if(e[r].contentWindow===a.source){var i=a.data[\"datawrapper-height\"][t]+\"px\";e[r].style.height=i}}}))}();\n",
        "</script>"
      ],
      "id": "1f4a6a26"
    }
  ],
  "metadata": {
    "kernelspec": {
      "name": "python3",
      "language": "python",
      "display_name": "Python 3 (ipykernel)"
    }
  },
  "nbformat": 4,
  "nbformat_minor": 5
}